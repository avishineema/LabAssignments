{
 "cells": [
  {
   "cell_type": "code",
   "execution_count": 6,
   "metadata": {},
   "outputs": [
    {
     "name": "stdout",
     "output_type": "stream",
     "text": [
      "Enter password: Aqz456@3#\n",
      "Valid Password\n"
     ]
    }
   ],
   "source": [
    "l, u, n, c = 0, 0, 0, 0\n",
    "p = input(\"Enter password: \")\n",
    "if (len(p) >= 8): \n",
    "    for i in p: \n",
    "  \n",
    "        # counting lowercase alphabets  \n",
    "        if (i.islower()): \n",
    "            l+=1            \n",
    "  \n",
    "        # counting uppercase alphabets \n",
    "        if (i.isupper()): \n",
    "            u+=1            \n",
    "  \n",
    "        # counting digits \n",
    "        if (i.isdigit()): \n",
    "            n+=1            \n",
    "  \n",
    "        # counting the mentioned special characters \n",
    "        if(i=='$'or i=='@' or i=='#'): \n",
    "            c+=1           \n",
    "if (l>=1 and u>=1 and n>=1 and c>=1 and l+u+n+c==len(p)): \n",
    "    print(\"Valid Password\") \n",
    "else: \n",
    "    print(\"Invalid Password\") "
   ]
  },
  {
   "cell_type": "code",
   "execution_count": null,
   "metadata": {},
   "outputs": [],
   "source": []
  }
 ],
 "metadata": {
  "kernelspec": {
   "display_name": "Python 3",
   "language": "python",
   "name": "python3"
  },
  "language_info": {
   "codemirror_mode": {
    "name": "ipython",
    "version": 3
   },
   "file_extension": ".py",
   "mimetype": "text/x-python",
   "name": "python",
   "nbconvert_exporter": "python",
   "pygments_lexer": "ipython3",
   "version": "3.8.3"
  }
 },
 "nbformat": 4,
 "nbformat_minor": 4
}
