{
 "cells": [
  {
   "cell_type": "code",
   "execution_count": 2,
   "metadata": {},
   "outputs": [
    {
     "name": "stdout",
     "output_type": "stream",
     "text": [
      "string to be iterated = awvyi3s8hri0\n",
      "avishi\n"
     ]
    }
   ],
   "source": [
    "w = input(\"string to be iterated = \")\n",
    "finalword= w[::2]\n",
    "print(finalword)"
   ]
  },
  {
   "cell_type": "code",
   "execution_count": 10,
   "metadata": {},
   "outputs": [
    {
     "name": "stdout",
     "output_type": "stream",
     "text": [
      "Username : avishineema\n",
      "Number of Passwords to be entered : 3\n",
      "passwords: AbD123@3#\n",
      "passwords: ghgij56\n",
      "passwords: @76578#\n",
      "correct and valid password\n"
     ]
    }
   ],
   "source": [
    "lower, upper, character, number = 0, 0, 0, 0\n",
    "Username=input(\"Username : \")\n",
    "data=int(input(\"Number of Passwords to be entered : \"))\n",
    "c=1\n",
    "table_password=[]\n",
    "correct_password=[]\n",
    "while c<=data:\n",
    "    Password= input(\"passwords: \")\n",
    "    c+=1\n",
    "    table_password.append(Password)\n",
    "for z in table_password:\n",
    "    if len(z)>=6 and len(z)<=12:\n",
    "        for y in z: \n",
    "             # counting uppercase alphabets \n",
    "                if (y.isupper()): \n",
    "                     upper+=1  \n",
    "            # counting lowercase alphabets  \n",
    "                elif (y.islower()): \n",
    "                     lower+=1 \n",
    "            # counting the mentioned special characters \n",
    "                elif(y=='@'or y=='$' or y=='#'): \n",
    "                     character+=1               \n",
    "            # counting digits \n",
    "                elif (y.isdigit()): \n",
    "                     number+=1            \n",
    "  \n",
    "                 \n",
    "        if (upper>0) and (lower>0) and (character>0) and (number>0):\n",
    "              correct_password.append(z)\n",
    "print(\"correct and valid password\") \n"
   ]
  },
  {
   "cell_type": "code",
   "execution_count": null,
   "metadata": {},
   "outputs": [],
   "source": []
  },
  {
   "cell_type": "code",
   "execution_count": null,
   "metadata": {},
   "outputs": [],
   "source": []
  },
  {
   "cell_type": "code",
   "execution_count": 52,
   "metadata": {},
   "outputs": [
    {
     "name": "stdout",
     "output_type": "stream",
     "text": [
      "[12, 24, 35, 88, 120, 155]\n"
     ]
    }
   ],
   "source": [
    "list =[12, 24, 35, 24, 88, 120, 155, 88, 120, 155]\n",
    "newlist=[]\n",
    "checked=set()\n",
    "for item in list:\n",
    "    if item not in checked:\n",
    "        checked.add(item)\n",
    "        newlist.append(item)\n",
    "print(newlist)"
   ]
  },
  {
   "cell_type": "code",
   "execution_count": null,
   "metadata": {},
   "outputs": [],
   "source": []
  },
  {
   "cell_type": "code",
   "execution_count": null,
   "metadata": {},
   "outputs": [],
   "source": []
  },
  {
   "cell_type": "code",
   "execution_count": null,
   "metadata": {},
   "outputs": [],
   "source": []
  }
 ],
 "metadata": {
  "kernelspec": {
   "display_name": "Python 3",
   "language": "python",
   "name": "python3"
  },
  "language_info": {
   "codemirror_mode": {
    "name": "ipython",
    "version": 3
   },
   "file_extension": ".py",
   "mimetype": "text/x-python",
   "name": "python",
   "nbconvert_exporter": "python",
   "pygments_lexer": "ipython3",
   "version": "3.8.3"
  }
 },
 "nbformat": 4,
 "nbformat_minor": 4
}
